{
 "cells": [
  {
   "cell_type": "markdown",
   "metadata": {},
   "source": [
    "Sources:\n",
    "- Cosmic curatate gene list: http://cancer.sanger.ac.uk/cosmic/curation\n",
    "- VCF File: ftp://ftp2.completegenomics.com/vcf_files/Build37_2.0.0/vcfBeta-NA12880-200-37-ASM.vcf\n",
    "- Liftover chain file: http://hgdownload.cse.ucsc.edu/goldenPath/hg38/liftOver/\n",
    "- cosmic.vcf: http://cancer.sanger.ac.uk/cosmic/download -> /files/grch38/cosmic/v76/VCF/CosmicCodingMuts.vcf.gz and /files/grch38/cosmic/v76/VCF/CosmicNonCodingVariants.vcf.gz then append together\n",
    "\n",
    "Plan:\n",
    "- Using the pullCosm.py script found in this directory, I pulled the top mutations for each fo the 178 genes in cosmic curated list. \n",
    "- iterate through vcf file and look for a mutation that matches one of the 178 hotspot mutations\n",
    "- results can be found in ./mutationsfound.vcf"
   ]
  },
  {
   "cell_type": "markdown",
   "metadata": {},
   "source": [
    "Read in the 178 genes (2 were lost in liftover)"
   ]
  },
  {
   "cell_type": "code",
   "execution_count": 52,
   "metadata": {
    "collapsed": false
   },
   "outputs": [
    {
     "name": "stdout",
     "output_type": "stream",
     "text": [
      "['chr9', '133589333', '133763062', 'ABL1']\n",
      "['chr2', '158592956', '158732374', 'ACVR1']\n",
      "['chr12', '52345451', '52390862', 'ACVR1B']\n",
      "['chr14', '105235686', '105262088', 'AKT1']\n",
      "['chr2', '29415640', '30144432', 'ALK']\n",
      "['chrX', '63404997', '63425624', 'AMER1']\n",
      "['chr5', '112043195', '112181936', 'APC']\n",
      "['chr1', '27022524', '27108595', 'ARID1A']\n",
      "['chr12', '46123448', '46301823', 'ARID2']\n",
      "['chr20', '30946147', '31027122', 'ASXL1']\n"
     ]
    }
   ],
   "source": [
    "import sys\n",
    "roiranges = []\n",
    "with open(\"./ROI19.bed\", 'r') as roi:\n",
    "    for line in roi:\n",
    "        if \"#\" not in line:\n",
    "            elements = line.rstrip().split(\"\\t\")\n",
    "            # chr, start, end\n",
    "            elrange = [elements[0], elements[1], elements[2], elements[3]]\n",
    "            roiranges.append(elrange)\n",
    "            \n",
    "for i in range(10):\n",
    "    print roiranges[i]"
   ]
  },
  {
   "cell_type": "markdown",
   "metadata": {},
   "source": [
    "Read in and check the vcf file at the same time"
   ]
  },
  {
   "cell_type": "code",
   "execution_count": 53,
   "metadata": {
    "collapsed": true
   },
   "outputs": [],
   "source": [
    "snps = []\n",
    "indels = []\n",
    "with open(\"./snp.bed\", 'r') as snp:\n",
    "    for line in snp:\n",
    "        entry = line.rstrip().split(\"\\t\")\n",
    "        snps.append(entry)\n",
    "\n",
    "with open(\"./indel.bed\", 'r') as indel:\n",
    "    for line in indel:\n",
    "        entry = line.rstrip().split(\"\\t\")\n",
    "        indels.append(entry)"
   ]
  },
  {
   "cell_type": "code",
   "execution_count": 54,
   "metadata": {
    "collapsed": false
   },
   "outputs": [],
   "source": [
    "def check_call_hot(call):\n",
    "    for snp in snps:\n",
    "        if \"chr\" + call[0] == snp[0]:\n",
    "            if call[1] == snp[1]:\n",
    "                return True\n",
    "    for indel in indels:\n",
    "        if \"chr\" + call[0] == indel[0]:\n",
    "            if call[1] == indel[1]:\n",
    "                return True\n",
    "    return False"
   ]
  },
  {
   "cell_type": "code",
   "execution_count": 55,
   "metadata": {
    "collapsed": false
   },
   "outputs": [
    {
     "name": "stdout",
     "output_type": "stream",
     "text": [
      "['3', '37053568', '.', 'A', 'G', '.', '.', 'NS=1;AN=2;AC=1;CGA_XR=dbsnp.89|rs1799977;CGA_FI=4292|NM_000249.3|MLH1|CDS|MISSENSE&4292|NM_001167617.1|MLH1|CDS|MISSENSE&4292|NM_001167618.1|MLH1|UTR5|UNKNOWN-INC&4292|NM_001167619.1|MLH1|UTR5|UNKNOWN-INC', 'GT:PS:FT:GQ:HQ:EHQ:CGA_CEHQ:GL:CGA_CEGL:DP:AD:CGA_RDP', '1/0:.:PASS:249:366,249:366,249:53,50:-366,0,-249:-53,0,-50:32:18,14:14']\n",
      "['3', '47125385', '.', 'G', 'A', '.', '.', 'NS=1;AN=2;AC=2;CGA_XR=dbsnp.108|rs4082155;CGA_FI=29072|NM_014159.6|SETD2|CDS|MISSENSE', 'GT:PS:FT:GQ:HQ:EHQ:CGA_CEHQ:GL:CGA_CEGL:DP:AD:CGA_RDP', '1/1:.:PASS:150:1218,150:1218,150:49,52:-1218,-150,0:-52,-49,0:56:56,56:0']\n",
      "['3', '52584431', '.', 'T', 'TCTC', '.', '.', 'NS=1;AN=2;AC=1;CGA_XR=dbsnp.126|rs34372721&dbsnp.130|rs71084187;CGA_FI=55193|NM_018165.4|PBRM1|DONOR|UNKNOWN-INC&55193|NM_018313.4|PBRM1|DONOR|UNKNOWN-INC&55193|NM_181042.3|PBRM1|DONOR|UNKNOWN-INC', 'GT:PS:FT:GQ:HQ:EHQ:CGA_CEHQ:GL:CGA_CEGL:DP:AD:CGA_RDP', '1/0:.:PASS:292:292,396:290,395:39,41:-292,0,-396:-39,0,-41:35:20,15:15']\n",
      "['4', '55972974', '.', 'T', 'A', '.', '.', 'NS=1;AN=2;AC=1;CGA_XR=dbsnp.92|rs1870377;CGA_FI=3791|NM_002253.2|KDR|CDS|MISSENSE', 'GT:PS:FT:GQ:HQ:EHQ:CGA_CEHQ:GL:CGA_CEGL:DP:AD:CGA_RDP', '1/0:.:PASS:316:430,316:427,313:50,53:-430,0,-316:-50,0,-53:42:25,17:17']\n",
      "['5', '35871190', '.', 'G', 'A', '.', '.', 'NS=1;AN=2;AC=1;CGA_XR=dbsnp.88|rs1494555;CGA_FI=3575|NM_002185.2|IL7R|CDS|MISSENSE;CGA_PFAM=PFAM|PF00041|FN3', 'GT:PS:FT:GQ:HQ:EHQ:CGA_CEHQ:GL:CGA_CEGL:DP:AD:CGA_RDP', '1|0:35870814:PASS:226:226,226:221,221:39,49:-226,0,-226:-39,0,-49:40:16,24:24']\n"
     ]
    }
   ],
   "source": [
    "mutsinroi = []\n",
    "count = 0\n",
    "with open(\"./vcfBeta-NA12880-200-37-ASM.vcf\", 'r') as vcf:\n",
    "    for line in vcf:\n",
    "        if \"#\" not in line:\n",
    "            count += 1\n",
    "            call = line.rstrip().split(\"\\t\")\n",
    "            if check_call_hot(call):\n",
    "                mutsinroi.append(call)\n",
    "                \n",
    "\n",
    "for i in range(5):\n",
    "    print mutsinroi[i]"
   ]
  },
  {
   "cell_type": "code",
   "execution_count": 56,
   "metadata": {
    "collapsed": false
   },
   "outputs": [
    {
     "name": "stdout",
     "output_type": "stream",
     "text": [
      "17\n",
      "['3', '47125385', '.', 'G', 'A', '.', '.', 'NS=1;AN=2;AC=2;CGA_XR=dbsnp.108|rs4082155;CGA_FI=29072|NM_014159.6|SETD2|CDS|MISSENSE', 'GT:PS:FT:GQ:HQ:EHQ:CGA_CEHQ:GL:CGA_CEGL:DP:AD:CGA_RDP', '1/1:.:PASS:150:1218,150:1218,150:49,52:-1218,-150,0:-52,-49,0:56:56,56:0']\n"
     ]
    }
   ],
   "source": [
    "print len(mutsinroi)\n",
    "print mutsinroi[1]\n"
   ]
  },
  {
   "cell_type": "code",
   "execution_count": 59,
   "metadata": {
    "collapsed": false
   },
   "outputs": [],
   "source": [
    "\n",
    "with open(\"./mutationsfound2.vcf\", 'w') as out:\n",
    "    for mut in mutsinroi:\n",
    "        info = mut[7].split(\"|\")\n",
    "        for inf in info:\n",
    "            \n",
    "        out.write(\"\\t\".join(mut) + \"\\n\")"
   ]
  },
  {
   "cell_type": "code",
   "execution_count": null,
   "metadata": {
    "collapsed": true
   },
   "outputs": [],
   "source": []
  }
 ],
 "metadata": {
  "kernelspec": {
   "display_name": "Python 2",
   "language": "python",
   "name": "python2"
  },
  "language_info": {
   "codemirror_mode": {
    "name": "ipython",
    "version": 2
   },
   "file_extension": ".py",
   "mimetype": "text/x-python",
   "name": "python",
   "nbconvert_exporter": "python",
   "pygments_lexer": "ipython2",
   "version": "2.7.10"
  }
 },
 "nbformat": 4,
 "nbformat_minor": 0
}
